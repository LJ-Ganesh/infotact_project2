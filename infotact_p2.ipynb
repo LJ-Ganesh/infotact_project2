{
 "cells": [
  {
   "cell_type": "code",
   "execution_count": null,
   "id": "38e04ec3-1375-41bd-bd19-44dcb8fa7d3e",
   "metadata": {},
   "outputs": [],
   "source": [
    "import pandas as pd\n",
    "import numpy as np\n",
    "import re\n",
    "import string\n",
    "import matplotlib.pyplot as plt\n",
    "import seaborn as sns\n",
    "from sklearn.preprocessing import LabelEncoder\n",
    "from nltk.corpus import stopwords\n",
    "from nltk.stem.porter import PorterStemmer\n",
    "from nltk.tokenize import word_tokenize\n",
    "import nltk\n",
    "\n",
    "\n",
    "# Load the CSV file\n",
    "print(\"Loading dataset...\")\n",
    "df = pd.read_csv(\"task_dataset.csv\")\n",
    "print(\"\\nInitial data shape:\", df.shape)\n",
    "print(\"\\n\\n\")\n",
    "print(df.head().to_string(index=False, justify='center'))\n",
    "\n",
    "# Check for missing values\n",
    "print(\"\\n\\n\\nMissing values:\")\n",
    "print(df.isnull().sum())\n",
    "\n",
    "# Drop rows with missing task or category\n",
    "df.dropna(subset=['task', 'category', 'priority'], inplace=True)\n",
    "\n",
    "\n",
    "# Text Cleaning\n",
    "\n",
    "def clean_text(text):\n",
    "    text = str(text).lower()                            # Lowercase\n",
    "    text = re.sub(r'\\n', ' ', text)                    # Remove newlines\n",
    "    text = re.sub(r'http\\S+', '', text)                # Remove URLs\n",
    "    text = re.sub(r'[^a-zA-Z0-9\\s]', '', text)         # Remove punctuation/symbols\n",
    "    text = re.sub(r'\\s+', ' ', text).strip()           # Remove extra whitespaces\n",
    "    return text\n",
    "\n",
    "\n",
    "# Apply cleaning to task and category\n",
    "print(\"\\n\\n\\nApplying cleaning to task and category fields...\")\n",
    "df['task_clean'] = df['task'].apply(clean_text)\n",
    "df['category_clean'] = df['category'].apply(clean_text)\n",
    "\n",
    "# Length of each task\n",
    "print(\"Adding task length features...\")\n",
    "df['char_count'] = df['task_clean'].apply(len)\n",
    "df['word_count'] = df['task_clean'].apply(lambda x: len(x.split()))\n",
    "\n",
    "\n",
    "# tokenization, stemming and stopword removal\n",
    "stemmer = PorterStemmer()\n",
    "stop_words = set(stopwords.words('english'))\n",
    "\n",
    "def tokenize_stem(text):\n",
    "    tokens = word_tokenize(text)\n",
    "    filtered = [stemmer.stem(word) for word in tokens if word not in stop_words]\n",
    "    return \" \".join(filtered)\n",
    "print(\"\\n\\nApplying tokenization, stop word removal, and stemming...\\n\\n\")\n",
    "df['task_processed'] = df['task_clean'].apply(tokenize_stem)\n",
    "\n",
    "# Numerical mapping for priority\n",
    "print(\"Mapping priority to numeric values (Low=0, Medium=1, High=2)...\")\n",
    "priority_map = {'Low': 0, 'Medium': 1, 'High': 2}\n",
    "df['priority_numeric'] = df['priority'].map(priority_map)\n",
    "\n",
    "# ----------------------------\n",
    "# Encode category labels\n",
    "# ----------------------------\n",
    "print(\"Encoding category labels...\")\n",
    "label_encoder = LabelEncoder()\n",
    "df['category_encoded'] = label_encoder.fit_transform(df['category_clean'])\n",
    "\n",
    "# ----------------------------\n",
    "# Show processed data\n",
    "# ----------------------------\n",
    "print(\"\\nCleaned and processed data sample:-\")\n",
    "print(df[['task_clean','task_processed', 'category_clean', 'category_encoded','priority_numeric', 'char_count', 'word_count']].head(10).to_string(index=False, justify='center'))\n"
   ]
  },
  {
   "cell_type": "code",
   "execution_count": null,
   "id": "72224a50-cf4b-4c17-9f00-6f9122a13aa4",
   "metadata": {},
   "outputs": [],
   "source": [
    "import matplotlib.pyplot as plt\n",
    "import seaborn as sns\n",
    "from wordcloud import WordCloud\n",
    "\n",
    "# Ensure inline plotting (for Jupyter Notebook)\n",
    "%matplotlib inline\n"
   ]
  },
  {
   "cell_type": "code",
   "execution_count": null,
   "id": "2748420d-ae11-445e-bfab-d273bb47c157",
   "metadata": {},
   "outputs": [],
   "source": [
    "plt.figure(figsize=(8,4))\n",
    "df['category_clean'].value_counts().plot(kind='bar', color='navy')\n",
    "plt.title(\"Task Category Distribution\", fontsize=14)\n",
    "plt.xlabel(\"Category\")\n",
    "plt.ylabel(\"Number of Tasks\")\n",
    "plt.xticks(rotation=45)\n",
    "plt.tight_layout()\n",
    "plt.show()\n"
   ]
  },
  {
   "cell_type": "code",
   "execution_count": null,
   "id": "cdcd9369-5519-4568-a2d2-f08ee3581e07",
   "metadata": {},
   "outputs": [],
   "source": [
    "plt.figure(figsize=(6,4))\n",
    "df['priority'].value_counts().plot(kind='bar', color='salmon')\n",
    "plt.title(\"Task Priority Distribution\", fontsize=14)\n",
    "plt.xlabel(\"Priority\")\n",
    "plt.ylabel(\"Count\")\n",
    "plt.tight_layout()\n",
    "plt.show()\n"
   ]
  },
  {
   "cell_type": "code",
   "execution_count": null,
   "id": "362b144c-438e-4326-9089-b353202cf906",
   "metadata": {},
   "outputs": [],
   "source": [
    "plt.figure(figsize=(8,4))\n",
    "sns.histplot(df['word_count'], kde=True, bins=30, color='purple')\n",
    "plt.title(\"Distribution of Task Word Counts\", fontsize=14)\n",
    "plt.xlabel(\"Word Count\")\n",
    "plt.ylabel(\"Frequency\")\n",
    "plt.tight_layout()\n",
    "plt.show()\n"
   ]
  },
  {
   "cell_type": "code",
   "execution_count": null,
   "id": "7a26ef21-2680-4397-860d-7058f5279ffd",
   "metadata": {},
   "outputs": [],
   "source": [
    "avg_len = df.groupby('category_clean')['word_count'].mean().sort_values(ascending=False)\n",
    "\n",
    "plt.figure(figsize=(8,4))\n",
    "avg_len.plot(kind='bar', color='green')\n",
    "plt.title(\"Average Word Count per Category\", fontsize=14)\n",
    "plt.ylabel(\"Avg. Word Count\")\n",
    "plt.xticks(rotation=45)\n",
    "plt.tight_layout()\n",
    "plt.show()\n"
   ]
  },
  {
   "cell_type": "code",
   "execution_count": null,
   "id": "43406a63-65d4-4a1d-9029-1fe196a3f95a",
   "metadata": {},
   "outputs": [],
   "source": [
    "text_all = \" \".join(df['task_processed'])\n",
    "wordcloud = WordCloud(width=800, height=400, background_color='white').generate(text_all)\n",
    "\n",
    "plt.figure(figsize=(8,4))\n",
    "plt.imshow(wordcloud, interpolation='bilinear')\n",
    "plt.axis('off')\n",
    "plt.title(\"Common Words in All Tasks\", fontsize=16)\n",
    "plt.tight_layout()\n",
    "plt.show()\n"
   ]
  },
  {
   "cell_type": "code",
   "execution_count": null,
   "id": "81d24ca5-2171-4122-8cd8-8b0d5a282a1e",
   "metadata": {},
   "outputs": [],
   "source": [
    "from sklearn.feature_extraction.text import TfidfVectorizer\n",
    "\n",
    "# TF-IDF Vectorization\n",
    "print(\"Extracting TF-IDF features...\")\n",
    "tfidf = TfidfVectorizer(max_features=3000, ngram_range=(1,2), stop_words='english')\n",
    "X = tfidf.fit_transform(df['task_processed'])\n",
    "\n",
    "# Target: Category (encoded)\n",
    "y = df['category_encoded']\n",
    "print(\"TF-IDF feature matrix shape:\", X.shape)\n"
   ]
  },
  {
   "cell_type": "code",
   "execution_count": 45,
   "id": "2545c31b-59b3-47fb-88de-a9e60e498f0c",
   "metadata": {},
   "outputs": [],
   "source": [
    "from sklearn.model_selection import train_test_split\n",
    "\n",
    "X_train, X_test, y_cat_train, y_cat_test, y_prio_train, y_prio_test = train_test_split(\n",
    "    X, df['category_encoded'], df['priority_numeric'], test_size=0.2, random_state=42)\n"
   ]
  },
  {
   "cell_type": "code",
   "execution_count": 46,
   "id": "d9d82324-bf9d-4999-bd5e-f6f85bc4986a",
   "metadata": {},
   "outputs": [],
   "source": [
    "\n",
    "from sklearn.naive_bayes import MultinomialNB\n",
    "from sklearn.svm import LinearSVC\n",
    "\n",
    "\n",
    "'''Naive Bayes model'''\n",
    "nb_model = MultinomialNB()\n",
    "nb_model.fit(X_train, y_cat_train)\n",
    "\n",
    "y_pred_nb = nb_model.predict(X_test)\n",
    "\n",
    "\n",
    "\n",
    "'''SVM model'''\n",
    "svm_model = LinearSVC()\n",
    "svm_model.fit(X_train, y_cat_train)\n",
    "\n",
    "y_pred_svm = svm_model.predict(X_test)\n"
   ]
  },
  {
   "cell_type": "code",
   "execution_count": 34,
   "id": "c98b4a1c-59c0-48ef-868d-1374b16b0563",
   "metadata": {},
   "outputs": [
    {
     "name": "stdout",
     "output_type": "stream",
     "text": [
      "Naive Bayes Classification Report:\n",
      "              precision    recall  f1-score   support\n",
      "\n",
      "    academic       1.00      1.00      1.00        49\n",
      "     finance       1.00      1.00      1.00        57\n",
      "      health       0.98      1.00      0.99        60\n",
      "    personal       1.00      0.92      0.96        48\n",
      "        work       0.92      1.00      0.96        36\n",
      "\n",
      "    accuracy                           0.98       250\n",
      "   macro avg       0.98      0.98      0.98       250\n",
      "weighted avg       0.98      0.98      0.98       250\n",
      "\n",
      "Accuracy: 0.984\n",
      " \n",
      "\n",
      "SVM Classification Report:\n",
      "              precision    recall  f1-score   support\n",
      "\n",
      "    academic       1.00      1.00      1.00        49\n",
      "     finance       1.00      1.00      1.00        57\n",
      "      health       1.00      1.00      1.00        60\n",
      "    personal       1.00      1.00      1.00        48\n",
      "        work       1.00      1.00      1.00        36\n",
      "\n",
      "    accuracy                           1.00       250\n",
      "   macro avg       1.00      1.00      1.00       250\n",
      "weighted avg       1.00      1.00      1.00       250\n",
      "\n",
      "Accuracy: 1.0\n"
     ]
    }
   ],
   "source": [
    "# Evaluation\n",
    "\n",
    "from sklearn.metrics import classification_report, accuracy_score, confusion_matrix\n",
    "\n",
    "print(\"Naive Bayes Classification Report:\")\n",
    "print(classification_report(y_cat_test, y_pred_nb, target_names=label_encoder.classes_))\n",
    "print(\"Accuracy:\", accuracy_score(y_cat_test, y_pred_nb))\n",
    "\n",
    "print(\" \\n\\nSVM Classification Report:\")\n",
    "print(classification_report(y_cat_test, y_pred_svm, target_names=label_encoder.classes_))\n",
    "print(\"Accuracy:\", accuracy_score(y_cat_test, y_pred_svm))\n"
   ]
  },
  {
   "cell_type": "code",
   "execution_count": 35,
   "id": "cc880186-ebe5-443f-85e1-e1a71af160c3",
   "metadata": {},
   "outputs": [
    {
     "data": {
      "image/png": "[encoded data removed]",
      "text/plain": [
       "<Figure size 600x500 with 2 Axes>"
      ]
     },
     "metadata": {},
     "output_type": "display_data"
    }
   ],
   "source": [
    "import seaborn as sns\n",
    "import matplotlib.pyplot as plt\n",
    "\n",
    "# Plot confusion matrix for SVM\n",
    "plt.figure(figsize=(6,5))\n",
    "cm = confusion_matrix(y_cat_test, y_pred_svm)\n",
    "sns.heatmap(cm, annot=True, fmt='d', cmap='Blues',\n",
    "            xticklabels=label_encoder.classes_,\n",
    "            yticklabels=label_encoder.classes_)\n",
    "plt.title(\"SVM Confusion Matrix\")\n",
    "plt.xlabel(\"Predicted\")\n",
    "plt.ylabel(\"Actual\")\n",
    "plt.tight_layout()\n",
    "plt.show()\n"
   ]
  },
  {
   "cell_type": "code",
   "execution_count": 53,
   "id": "d3471cdd-c1a7-48ac-ba53-b604106d87ca",
   "metadata": {},
   "outputs": [],
   "source": [
    "from sklearn.ensemble import RandomForestClassifier\n",
    "from xgboost import XGBClassifier\n",
    "\n",
    "''' Random Forest model'''\n",
    "rf_model = RandomForestClassifier(n_estimators=100, random_state=42)\n",
    "rf_model.fit(X_train, y_prio_train)\n",
    "\n",
    "yp_pred_rf = rf_model.predict(X_test)\n",
    "\n",
    "''' XGBoost model '''\n",
    "xgb_model = XGBClassifier(eval_metric='mlogloss', random_state=42)\n",
    "xgb_model.fit(X_train, y_prio_train)\n",
    "\n",
    "yp_pred_xgb = xgb_model.predict(X_test)\n"
   ]
  },
  {
   "cell_type": "code",
   "execution_count": 54,
   "id": "756df0b2-2461-405f-aee0-f1d02abdabdf",
   "metadata": {
    "scrolled": true
   },
   "outputs": [
    {
     "name": "stdout",
     "output_type": "stream",
     "text": [
      " Random Forest - Priority Classification Report\n",
      "              precision    recall  f1-score   support\n",
      "\n",
      "           0       0.30      0.29      0.29        21\n",
      "           1       0.44      0.57      0.50        42\n",
      "           2       0.35      0.24      0.29        37\n",
      "\n",
      "    accuracy                           0.39       100\n",
      "   macro avg       0.36      0.37      0.36       100\n",
      "weighted avg       0.38      0.39      0.38       100\n",
      "\n",
      "Accuracy: 0.39\n",
      " XGBoost - Priority Classification Report\n",
      "              precision    recall  f1-score   support\n",
      "\n",
      "           0       0.37      0.33      0.35        21\n",
      "           1       0.43      0.55      0.48        42\n",
      "           2       0.36      0.27      0.31        37\n",
      "\n",
      "    accuracy                           0.40       100\n",
      "   macro avg       0.39      0.38      0.38       100\n",
      "weighted avg       0.39      0.40      0.39       100\n",
      "\n",
      "Accuracy: 0.4\n"
     ]
    }
   ],
   "source": [
    "# Evaluation\n",
    "print(\" Random Forest - Priority Classification Report\")\n",
    "print(classification_report(y_prio_test, yp_pred_rf))\n",
    "print(\"Accuracy:\", accuracy_score(y_prio_test, yp_pred_rf))\n",
    "\n",
    "\n",
    "print(\" XGBoost - Priority Classification Report\")\n",
    "print(classification_report(y_prio_test, yp_pred_xgb))\n",
    "print(\"Accuracy:\", accuracy_score(y_prio_test, yp_pred_xgb))\n"
   ]
  },
  {
   "cell_type": "code",
   "execution_count": 55,
   "id": "3cd03929-7d36-4198-b6eb-668354587baf",
   "metadata": {},
   "outputs": [
    {
     "name": "stdout",
     "output_type": "stream",
     "text": [
      "Best RF Params: {'max_depth': 5, 'min_samples_split': 5, 'n_estimators': 200}\n",
      "RF Accuracy: 0.4825309542512999\n",
      "\n",
      "\n",
      "Best XGB Params: {'learning_rate': 0.01, 'max_depth': 3, 'n_estimators': 200}\n",
      "XGB Accuracy: 0.4474806419032656\n"
     ]
    }
   ],
   "source": [
    "from sklearn.model_selection import GridSearchCV\n",
    "from sklearn.ensemble import RandomForestClassifier\n",
    "from xgboost import XGBClassifier\n",
    "\n",
    "# Random Forest Grid Search\n",
    "rf_grid = GridSearchCV(\n",
    "    RandomForestClassifier(random_state=42),\n",
    "    param_grid={\n",
    "        'n_estimators': [100, 200],\n",
    "        'max_depth': [5, 10, None],\n",
    "        'min_samples_split': [2, 5]\n",
    "    },\n",
    "    cv=3, scoring='accuracy', n_jobs=-1\n",
    ")\n",
    "rf_grid.fit(Xp_train, yp_train)\n",
    "print(\"Best RF Params:\", rf_grid.best_params_)\n",
    "print(\"RF Accuracy:\", rf_grid.best_score_)\n",
    "\n",
    "# XGBoost Grid Search\n",
    "xgb_grid = GridSearchCV(\n",
    "    XGBClassifier(eval_metric='mlogloss',random_state=42),\n",
    "    param_grid={\n",
    "        'n_estimators': [100, 200],\n",
    "        'max_depth': [3, 6],\n",
    "        'learning_rate': [0.1, 0.01]\n",
    "    },\n",
    "    cv=3, scoring='accuracy', n_jobs=-1\n",
    ")\n",
    "xgb_grid.fit(Xp_train, yp_train)\n",
    "print(\"\\n\\nBest XGB Params:\", xgb_grid.best_params_)\n",
    "print(\"XGB Accuracy:\", xgb_grid.best_score_)\n"
   ]
  },
  {
   "cell_type": "code",
   "execution_count": 52,
   "id": "7afb4322-1ed8-4620-a6fa-17e1f4b9495b",
   "metadata": {},
   "outputs": [
    {
     "name": "stdout",
     "output_type": "stream",
     "text": [
      "\n",
      "✅ Finalized Priority Model Accuracies:\n",
      "   • Random Forest (Best) : 0.4000\n",
      "   • XGBoost (Best)       : 0.3900\n"
     ]
    }
   ],
   "source": [
    "# Replace original models with best estimators\n",
    "rf_model = rf_grid.best_estimator_\n",
    "xgb_model = xgb_grid.best_estimator_\n",
    "\n",
    "# Re-predict using best models (optional, if not done before)\n",
    "yp_pred_rf = rf_model.predict(Xp_test)\n",
    "yp_pred_xgb = xgb_model.predict(Xp_test)\n",
    "\n",
    "# Evaluate updated models\n",
    "rf_accuracy = accuracy_score(y_prio_test, yp_pred_rf)\n",
    "xgb_accuracy = accuracy_score(y_prio_test, yp_pred_xgb)\n",
    "\n",
    "print(\"\\n✅ Finalized Priority Model Accuracies:\")\n",
    "print(f\"   • Random Forest (Best) : {rf_accuracy:.4f}\")\n",
    "print(f\"   • XGBoost (Best)       : {xgb_accuracy:.4f}\")\n"
   ]
  },
  {
   "cell_type": "code",
   "execution_count": 56,
   "id": "ca33fccb-b294-4f13-8a47-e9bc7cac3a3e",
   "metadata": {},
   "outputs": [
    {
     "name": "stdout",
     "output_type": "stream",
     "text": [
      "📂 Category Prediction Accuracies:\n",
      "   • Naive Bayes : 0.9900\n",
      "   • SVM         : 1.0000\n",
      "\n",
      "⚠️ Priority Prediction Accuracies:\n",
      "   • Random Forest : 0.3900\n",
      "   • XGBoost       : 0.4000\n"
     ]
    }
   ],
   "source": [
    "from sklearn.metrics import accuracy_score\n",
    "\n",
    "# ✅ Accuracies for Category Predictions\n",
    "nb_acc = accuracy_score(y_cat_test, y_pred_nb)       # Naive Bayes\n",
    "svm_acc = accuracy_score(y_cat_test, y_pred_svm)     # SVM\n",
    "\n",
    "# ✅ Accuracies for Priority Predictions\n",
    "rf_acc = accuracy_score(y_prio_test, yp_pred_rf)     # Random Forest\n",
    "xgb_acc = accuracy_score(y_prio_test, yp_pred_xgb)   # XGBoost\n",
    "\n",
    "# ✅ Display Accuracies\n",
    "print(\"📂 Category Prediction Accuracies:\")\n",
    "print(f\"   • Naive Bayes : {nb_acc:.4f}\")\n",
    "print(f\"   • SVM         : {svm_acc:.4f}\")\n",
    "\n",
    "print(\"\\n⚠️ Priority Prediction Accuracies:\")\n",
    "print(f\"   • Random Forest : {rf_acc:.4f}\")\n",
    "print(f\"   • XGBoost       : {xgb_acc:.4f}\")\n"
   ]
  },
  {
   "cell_type": "code",
   "execution_count": 51,
   "id": "99f2da88-0e85-4b46-9358-75a617e41a40",
   "metadata": {},
   "outputs": [
    {
     "name": "stdout",
     "output_type": "stream",
     "text": [
      "📂 Category Prediction Accuracies:\n",
      "   • Naive Bayes : 0.9900\n",
      "   • SVM         : 1.0000\n",
      "\n",
      "⚠️ Priority Prediction Accuracies (Best Estimators):\n",
      "   • Random Forest (Best) : 0.4000\n",
      "   • XGBoost (Best)       : 0.3900\n"
     ]
    }
   ],
   "source": [
    "from sklearn.metrics import accuracy_score\n",
    "\n",
    "# ✅ Category Prediction Accuracies (already trained models)\n",
    "nb_acc = accuracy_score(y_cat_test, y_pred_nb)       \n",
    "svm_acc = accuracy_score(y_cat_test, y_pred_svm)     \n",
    "\n",
    "# ✅ Priority Prediction Accuracies using best estimators\n",
    "yp_pred_rf_best = rf_grid.best_estimator_.predict(Xp_test)\n",
    "yp_pred_xgb_best = xgb_grid.best_estimator_.predict(Xp_test)\n",
    "\n",
    "rf_acc_best = accuracy_score(y_prio_test, yp_pred_rf_best)\n",
    "xgb_acc_best = accuracy_score(y_prio_test, yp_pred_xgb_best)\n",
    "\n",
    "# ✅ Display Accuracies\n",
    "print(\"📂 Category Prediction Accuracies:\")\n",
    "print(f\"   • Naive Bayes : {nb_acc:.4f}\")\n",
    "print(f\"   • SVM         : {svm_acc:.4f}\")\n",
    "\n",
    "print(\"\\n⚠️ Priority Prediction Accuracies (Best Estimators):\")\n",
    "print(f\"   • Random Forest (Best) : {rf_acc_best:.4f}\")\n",
    "print(f\"   • XGBoost (Best)       : {xgb_acc_best:.4f}\")\n"
   ]
  },
  {
   "cell_type": "code",
   "execution_count": 68,
   "id": "bea86463-3fe3-4727-9f66-9867bb007b37",
   "metadata": {},
   "outputs": [
    {
     "name": "stdin",
     "output_type": "stream",
     "text": [
      "enter task:  help your wife\n"
     ]
    },
    {
     "name": "stdout",
     "output_type": "stream",
     "text": [
      "Task: help your wife\n",
      "\n",
      "Predicted Category:\n",
      "   • Naive Bayes → personal\n",
      "   • SVM         → health\n",
      "\n",
      "Predicted Priority:\n",
      "   • Random Forest → Medium\n",
      "   • XGBoost       → Medium\n"
     ]
    }
   ],
   "source": [
    "def predicter(task_text):\n",
    "    # Preprocess like your pipeline\n",
    "    task_clean = task_text.lower().strip()\n",
    "    task_vec = tfidf.transform([task_clean])  # single row\n",
    "\n",
    "    # Category Prediction\n",
    "    nb_pred = label_encoder.inverse_transform(nb_model.predict(task_vec))[0]\n",
    "    svm_pred = label_encoder.inverse_transform(svm_model.predict(task_vec))[0]\n",
    "\n",
    "    # Priority Prediction\n",
    "    xgb_pred = xgb_model.predict(task_vec)[0]\n",
    "    rf_pred = rf_model.predict(task_vec)[0]\n",
    "\n",
    "    # Priority mapping\n",
    "    priority_map = {2: \"High\", 1: \"Medium\", 0: \"Low\"}\n",
    "\n",
    "    # Output\n",
    "    print(\"Task:\", task_text)\n",
    "    print(\"\\nPredicted Category:\")\n",
    "    print(\"   • Naive Bayes →\", nb_pred)\n",
    "    print(\"   • SVM         →\", svm_pred)\n",
    "\n",
    "    print(\"\\nPredicted Priority:\")\n",
    "    print(\"   • Random Forest →\", priority_map.get(rf_pred, \"Unknown\"))\n",
    "    print(\"   • XGBoost       →\", priority_map.get(xgb_pred, \"Unknown\"))\n",
    "\n",
    "tasker = input(\"enter task: \")\n",
    "predicter(tasker)"
   ]
  },
  {
   "cell_type": "code",
   "execution_count": 80,
   "id": "f6150d8f-4106-43b1-8c49-dc611c40fb33",
   "metadata": {},
   "outputs": [
    {
     "data": {
      "image/png": "[encoded data removed]",
      "text/plain": [
       "<Figure size 1000x500 with 1 Axes>"
      ]
     },
     "metadata": {},
     "output_type": "display_data"
    }
   ],
   "source": [
    "# 🧮 Parameters\n",
    "DAILY_CAPACITY = 1000  # Max workload one can handle in a day\n",
    "\n",
    "\n",
    "#df['pword_count'] = df['task_processed'].apply(lambda x: len(x.split()))\n",
    "df['workload_score'] = ((df['priority_numeric'] + 1)*2) * (df['word_count'] ** 0.4)\n",
    "\n",
    "\n",
    "\n",
    "# Sort tasks in descending order of workload (optional: keep original order)\n",
    "df_sorted = df.sort_values(by='workload_score', ascending=False).reset_index(drop=True)\n",
    "\n",
    "# ⏳ Assign tasks day-by-day\n",
    "assigned_days = []\n",
    "day = 1\n",
    "current_load = 0\n",
    "\n",
    "for _, row in df_sorted.iterrows():\n",
    "    score = row['workload_score']\n",
    "    if current_load + score > DAILY_CAPACITY:\n",
    "        day += 1\n",
    "        current_load = 0\n",
    "    assigned_days.append(day)\n",
    "    current_load += score\n",
    "\n",
    "# Add assignment to DataFrame\n",
    "df_sorted['day_assigned'] = assigned_days\n",
    "# Total workload per day\n",
    "workload_per_day = df_sorted.groupby('day_assigned')['workload_score'].sum()\n",
    "\n",
    "# Plot\n",
    "plt.figure(figsize=(10, 5))\n",
    "plt.bar(workload_per_day.index, workload_per_day.values, color='orange')\n",
    "plt.axhline(DAILY_CAPACITY, color='red', linestyle='--', label='Daily Limit')\n",
    "plt.xlabel(\"Day\")\n",
    "plt.ylabel(\"Total Workload\")\n",
    "plt.title(\" Daily Workload Assignment\")\n",
    "plt.legend()\n",
    "plt.tight_layout()\n",
    "plt.show()\n"
   ]
  },
  {
   "cell_type": "code",
   "execution_count": 81,
   "id": "4435d4a9-18ee-45dd-ae8b-f10482fb0b1b",
   "metadata": {},
   "outputs": [
    {
     "name": "stdout",
     "output_type": "stream",
     "text": [
      "\n",
      "📆 Day 1 — Total Tasks: 97\n",
      " - fix bug in project module\n",
      " - fix bug in home module\n",
      " - fix bug in manager module\n",
      " - fix bug in parents module\n",
      " - fix bug in home module\n",
      " - fix bug in home module\n",
      " - buy groceries for dentist\n",
      " - transfer money to project\n",
      " - check doctor account balance\n",
      " - send report to dentist\n",
      "\n",
      "📆 Day 2 — Total Tasks: 124\n",
      " - update project documentation\n",
      " - attend parents class\n",
      " - do project workout\n",
      " - clean the doctor\n",
      " - attend bank class\n",
      " - take manager medicine\n",
      " - attend manager class\n",
      " - schedule gym appointment\n",
      " - schedule home appointment\n",
      " - budget for manager\n",
      "\n",
      "📆 Day 3 — Total Tasks: 155\n",
      " - transfer money to home\n",
      " - go for home checkup\n",
      " - plan trip to bank\n",
      " - check parents account balance\n",
      " - deploy changes to doctor\n",
      " - review notes for dentist\n",
      " - deploy changes to manager\n",
      " - send report to dentist\n",
      " - work on doctor project\n",
      " - go for bank checkup\n",
      "\n",
      "📆 Day 4 — Total Tasks: 124\n",
      " - take bank medicine\n",
      " - take manager medicine\n",
      " - submit friend assignment\n",
      " - update dentist documentation\n",
      " - do friend workout\n",
      " - invest in dentist\n",
      " - clean the manager\n",
      " - buy doctor supplements\n",
      " - clean the project\n",
      " - pay friend bill\n"
     ]
    }
   ],
   "source": [
    "for day in range(1, day + 1):\n",
    "    print(f\"\\n📆 Day {day} — Total Tasks: {(df_sorted['day_assigned'] == day).sum()}\")\n",
    "    for task in df_sorted[df_sorted['day_assigned'] == day]['task_clean'].head(10):\n",
    "        print(\" -\", task)\n"
   ]
  },
  {
   "cell_type": "code",
   "execution_count": 85,
   "id": "b2ae72a3-5854-4430-b760-7a3d0fc94a28",
   "metadata": {},
   "outputs": [
    {
     "name": "stdout",
     "output_type": "stream",
     "text": [
      "imported\n"
     ]
    }
   ],
   "source": [
    "import joblib\n",
    "\n",
    "joblib.dump(svm_model, \"best_category_model.pkl\")  # or nb_model\n",
    "joblib.dump(rf_model, \"best_priority_model.pkl\")  # or xgb_best_model\n",
    "joblib.dump(tfidf, \"vectorizer.pkl\")\n",
    "joblib.dump(label_encoder, \"category_encoder.pkl\")\n",
    "print(\"imported\")"
   ]
  },
  {
   "cell_type": "code",
   "execution_count": null,
   "id": "3c8e55e8-253c-49f6-a121-dc50ee915214",
   "metadata": {},
   "outputs": [],
   "source": []
  }
 ],
 "metadata": {
  "kernelspec": {
   "display_name": "Python 3 (ipykernel)",
   "language": "python",
   "name": "python3"
  },
  "language_info": {
   "codemirror_mode": {
    "name": "ipython",
    "version": 3
   },
   "file_extension": ".py",
   "mimetype": "text/x-python",
   "name": "python",
   "nbconvert_exporter": "python",
   "pygments_lexer": "ipython3",
   "version": "3.13.0"
  }
 },
 "nbformat": 4,
 "nbformat_minor": 5
}
